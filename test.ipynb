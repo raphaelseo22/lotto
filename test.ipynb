{
 "cells": [
  {
   "cell_type": "code",
   "execution_count": 1,
   "metadata": {},
   "outputs": [],
   "source": [
    "import random\n",
    "import requests\n",
    "import pandas as pd\n",
    "from tqdm.notebook import tqdm\n",
    "from matplotlib import pyplot as plt"
   ]
  },
  {
   "cell_type": "code",
   "execution_count": 2,
   "metadata": {},
   "outputs": [],
   "source": [
    "url = \"https://www.dhlottery.co.kr/common.do?method=getLottoNumber&drwNo=\""
   ]
  },
  {
   "cell_type": "code",
   "execution_count": 7,
   "metadata": {},
   "outputs": [],
   "source": [
    "n = \"1\"\n",
    "req = requests.get(url+n)"
   ]
  },
  {
   "cell_type": "code",
   "execution_count": 8,
   "metadata": {},
   "outputs": [],
   "source": [
    "num_dict = {}\n",
    "for i in range(45):\n",
    "    num_dict[\"{}\".format(i+1)] = 0"
   ]
  },
  {
   "cell_type": "code",
   "execution_count": 9,
   "metadata": {},
   "outputs": [
    {
     "data": {
      "text/plain": [
       "{'1': 0,\n",
       " '2': 0,\n",
       " '3': 0,\n",
       " '4': 0,\n",
       " '5': 0,\n",
       " '6': 0,\n",
       " '7': 0,\n",
       " '8': 0,\n",
       " '9': 0,\n",
       " '10': 0,\n",
       " '11': 0,\n",
       " '12': 0,\n",
       " '13': 0,\n",
       " '14': 0,\n",
       " '15': 0,\n",
       " '16': 0,\n",
       " '17': 0,\n",
       " '18': 0,\n",
       " '19': 0,\n",
       " '20': 0,\n",
       " '21': 0,\n",
       " '22': 0,\n",
       " '23': 0,\n",
       " '24': 0,\n",
       " '25': 0,\n",
       " '26': 0,\n",
       " '27': 0,\n",
       " '28': 0,\n",
       " '29': 0,\n",
       " '30': 0,\n",
       " '31': 0,\n",
       " '32': 0,\n",
       " '33': 0,\n",
       " '34': 0,\n",
       " '35': 0,\n",
       " '36': 0,\n",
       " '37': 0,\n",
       " '38': 0,\n",
       " '39': 0,\n",
       " '40': 0,\n",
       " '41': 0,\n",
       " '42': 0,\n",
       " '43': 0,\n",
       " '44': 0,\n",
       " '45': 0}"
      ]
     },
     "execution_count": 9,
     "metadata": {},
     "output_type": "execute_result"
    }
   ],
   "source": [
    "num_dict"
   ]
  },
  {
   "cell_type": "code",
   "execution_count": 10,
   "metadata": {},
   "outputs": [],
   "source": [
    "json_data = req.json()"
   ]
  },
  {
   "cell_type": "code",
   "execution_count": 11,
   "metadata": {},
   "outputs": [
    {
     "data": {
      "text/plain": [
       "{'totSellamnt': 3681782000,\n",
       " 'returnValue': 'success',\n",
       " 'drwNoDate': '2002-12-07',\n",
       " 'firstWinamnt': 0,\n",
       " 'drwtNo6': 40,\n",
       " 'drwtNo4': 33,\n",
       " 'firstPrzwnerCo': 0,\n",
       " 'drwtNo5': 37,\n",
       " 'bnusNo': 16,\n",
       " 'firstAccumamnt': 863604600,\n",
       " 'drwNo': 1,\n",
       " 'drwtNo2': 23,\n",
       " 'drwtNo3': 29,\n",
       " 'drwtNo1': 10}"
      ]
     },
     "execution_count": 11,
     "metadata": {},
     "output_type": "execute_result"
    }
   ],
   "source": [
    "json_data"
   ]
  },
  {
   "cell_type": "code",
   "execution_count": 29,
   "metadata": {},
   "outputs": [],
   "source": [
    "num1 = []\n",
    "num2 = []\n",
    "num3 = []\n",
    "num4 = []\n",
    "num5 = []\n",
    "num6 = []\n",
    "bonus_num = []"
   ]
  },
  {
   "cell_type": "code",
   "execution_count": 30,
   "metadata": {},
   "outputs": [],
   "source": [
    "for i in range(6):\n",
    "    n = i+1\n",
    "    if n == 1:\n",
    "        num1.append(json_data[\"drwtNo1\"])\n",
    "    elif n == 2:\n",
    "        num2.append(json_data[\"drwtNo2\"])\n",
    "    elif n == 3:\n",
    "        num3.append(json_data[\"drwtNo3\"])\n",
    "    elif n == 4:\n",
    "        num4.append(json_data[\"drwtNo4\"])\n",
    "    elif n == 5:\n",
    "        num5.append(json_data[\"drwtNo5\"])\n",
    "    elif n == 6:\n",
    "        num6.append(json_data[\"drwtNo6\"])\n",
    "    else:\n",
    "        continue\n"
   ]
  },
  {
   "cell_type": "code",
   "execution_count": 31,
   "metadata": {},
   "outputs": [],
   "source": [
    "bonus_num.append(json_data[\"bnusNo\"])"
   ]
  },
  {
   "cell_type": "code",
   "execution_count": 35,
   "metadata": {},
   "outputs": [
    {
     "data": {
      "text/plain": [
       "[29]"
      ]
     },
     "execution_count": 35,
     "metadata": {},
     "output_type": "execute_result"
    }
   ],
   "source": [
    "num3"
   ]
  },
  {
   "cell_type": "code",
   "execution_count": 37,
   "metadata": {},
   "outputs": [],
   "source": [
    "df = pd.DataFrame()"
   ]
  },
  {
   "cell_type": "code",
   "execution_count": 40,
   "metadata": {},
   "outputs": [],
   "source": [
    "df[\"round\"] = round_num\n",
    "df[\"num1\"] = num1\n",
    "df[\"num2\"] = num2\n",
    "df[\"num3\"] = num3\n",
    "df[\"num4\"] = num4\n",
    "df[\"num5\"] = num5\n",
    "df[\"num6\"] = num6\n",
    "df[\"bonus\"] = bonus_num"
   ]
  },
  {
   "cell_type": "code",
   "execution_count": 41,
   "metadata": {},
   "outputs": [
    {
     "data": {
      "text/html": [
       "<div>\n",
       "<style scoped>\n",
       "    .dataframe tbody tr th:only-of-type {\n",
       "        vertical-align: middle;\n",
       "    }\n",
       "\n",
       "    .dataframe tbody tr th {\n",
       "        vertical-align: top;\n",
       "    }\n",
       "\n",
       "    .dataframe thead th {\n",
       "        text-align: right;\n",
       "    }\n",
       "</style>\n",
       "<table border=\"1\" class=\"dataframe\">\n",
       "  <thead>\n",
       "    <tr style=\"text-align: right;\">\n",
       "      <th></th>\n",
       "      <th>num1</th>\n",
       "      <th>num2</th>\n",
       "      <th>num3</th>\n",
       "      <th>num4</th>\n",
       "      <th>num5</th>\n",
       "      <th>num6</th>\n",
       "      <th>bonus</th>\n",
       "    </tr>\n",
       "  </thead>\n",
       "  <tbody>\n",
       "    <tr>\n",
       "      <th>0</th>\n",
       "      <td>10</td>\n",
       "      <td>23</td>\n",
       "      <td>29</td>\n",
       "      <td>33</td>\n",
       "      <td>37</td>\n",
       "      <td>40</td>\n",
       "      <td>16</td>\n",
       "    </tr>\n",
       "  </tbody>\n",
       "</table>\n",
       "</div>"
      ],
      "text/plain": [
       "   num1  num2  num3  num4  num5  num6  bonus\n",
       "0    10    23    29    33    37    40     16"
      ]
     },
     "execution_count": 41,
     "metadata": {},
     "output_type": "execute_result"
    }
   ],
   "source": [
    "df"
   ]
  },
  {
   "cell_type": "code",
   "execution_count": 4,
   "metadata": {},
   "outputs": [],
   "source": [
    "nums = []\n",
    "for i in range(45):\n",
    "    nums.append(i+1)\n",
    "    \n",
    "out = random.sample(nums, 6)"
   ]
  },
  {
   "cell_type": "code",
   "execution_count": 6,
   "metadata": {},
   "outputs": [],
   "source": [
    "out.sort()"
   ]
  },
  {
   "cell_type": "code",
   "execution_count": 7,
   "metadata": {},
   "outputs": [
    {
     "data": {
      "text/plain": [
       "[5, 8, 13, 21, 34, 43]"
      ]
     },
     "execution_count": 7,
     "metadata": {},
     "output_type": "execute_result"
    }
   ],
   "source": [
    "out"
   ]
  },
  {
   "cell_type": "code",
   "execution_count": 11,
   "metadata": {},
   "outputs": [],
   "source": [
    "num_dict = {'1': 173, '2': 163, '3': 161, '4': 167, '5': 151, '6': 154, '7': 158, '8': 154, '9': 132, '10': 162, '11': 160, '12': 168, '13': 171, '14': 164, '15': 158, '16': 158, '17': 171,\n",
    "    '18': 168, '19': 153, '20': 166, '21': 160, '22': 130, '23': 141, '24': 162, '25': 149, '26': 164, '27': 173, '28': 143, '29': 138, '30': 151, '31': 160, '32': 142, '33': 169, '34': 176,\n",
    "    '35': 155, '36': 156, '37': 163, '38': 161, '39': 167, '40': 163, '41': 141, '42': 156, '43': 180, '44': 157, '45': 157}"
   ]
  },
  {
   "cell_type": "code",
   "execution_count": 10,
   "metadata": {},
   "outputs": [
    {
     "data": {
      "text/plain": [
       "{'1': 173,\n",
       " '2': 163,\n",
       " '3': 161,\n",
       " '4': 167,\n",
       " '5': 151,\n",
       " '6': 154,\n",
       " '7': 158,\n",
       " '8': 154,\n",
       " '9': 132,\n",
       " '10': 162,\n",
       " '11': 160,\n",
       " '12': 168,\n",
       " '13': 171,\n",
       " '14': 164,\n",
       " '15': 158,\n",
       " '16': 158,\n",
       " '17': 171,\n",
       " '18': 168,\n",
       " '19': 153,\n",
       " '20': 166,\n",
       " '21': 160,\n",
       " '22': 130,\n",
       " '23': 141,\n",
       " '24': 162,\n",
       " '25': 149,\n",
       " '26': 164,\n",
       " '27': 173,\n",
       " '28': 143,\n",
       " '29': 138,\n",
       " '30': 151,\n",
       " '31': 160,\n",
       " '32': 142,\n",
       " '33': 169,\n",
       " '34': 176,\n",
       " '35': 155,\n",
       " '36': 156,\n",
       " '37': 163,\n",
       " '38': 161,\n",
       " '39': 167,\n",
       " '40': 163,\n",
       " '41': 141,\n",
       " '42': 156,\n",
       " '43': 180,\n",
       " '44': 157,\n",
       " '45': 157}"
      ]
     },
     "execution_count": 10,
     "metadata": {},
     "output_type": "execute_result"
    }
   ],
   "source": [
    "num_dict"
   ]
  },
  {
   "cell_type": "code",
   "execution_count": 14,
   "metadata": {},
   "outputs": [
    {
     "name": "stdout",
     "output_type": "stream",
     "text": [
      "[('22', 130), ('9', 132), ('29', 138), ('23', 141), ('41', 141), ('32', 142), ('28', 143), ('25', 149), ('5', 151), ('30', 151), ('19', 153), ('6', 154), ('8', 154), ('35', 155), ('36', 156), ('42', 156), ('44', 157), ('45', 157), ('7', 158), ('15', 158), ('16', 158), ('11', 160), ('21', 160), ('31', 160), ('3', 161), ('38', 161), ('10', 162), ('24', 162), ('2', 163), ('37', 163), ('40', 163), ('14', 164), ('26', 164), ('20', 166), ('4', 167), ('39', 167), ('12', 168), ('18', 168), ('33', 169), ('13', 171), ('17', 171), ('1', 173), ('27', 173), ('34', 176), ('43', 180)]\n"
     ]
    }
   ],
   "source": [
    "sorted_dict = sorted(num_dict.items(), key = lambda item: item[1])\n",
    "print(sorted_dict)\n",
    "dict_res = []\n",
    "for i in range(6):\n",
    "    dict_res.append(int(sorted_dict[i][0]))"
   ]
  },
  {
   "cell_type": "code",
   "execution_count": 16,
   "metadata": {},
   "outputs": [],
   "source": [
    "dict_res.sort()"
   ]
  },
  {
   "cell_type": "code",
   "execution_count": 17,
   "metadata": {},
   "outputs": [
    {
     "data": {
      "text/plain": [
       "[9, 22, 23, 29, 32, 41]"
      ]
     },
     "execution_count": 17,
     "metadata": {},
     "output_type": "execute_result"
    }
   ],
   "source": [
    "dict_res"
   ]
  },
  {
   "cell_type": "code",
   "execution_count": 41,
   "metadata": {},
   "outputs": [],
   "source": [
    "df = pd.read_csv(\"/home/raphaelseo/personal/lotto/result.csv\")\n",
    "X = df[\"round\"]\n",
    "y = df[\"num1\"]"
   ]
  },
  {
   "cell_type": "code",
   "execution_count": 42,
   "metadata": {},
   "outputs": [
    {
     "data": {
      "image/png": "[encoded data removed]",
      "text/plain": [
       "<Figure size 432x288 with 1 Axes>"
      ]
     },
     "metadata": {
      "needs_background": "light"
     },
     "output_type": "display_data"
    }
   ],
   "source": [
    "plt.plot(X, y, 'o')\n",
    "plt.show()"
   ]
  },
  {
   "cell_type": "code",
   "execution_count": 49,
   "metadata": {},
   "outputs": [
    {
     "data": {
      "text/plain": [
       "6.655206286836935"
      ]
     },
     "execution_count": 49,
     "metadata": {},
     "output_type": "execute_result"
    }
   ],
   "source": [
    "float(y.describe()[\"mean\"])"
   ]
  },
  {
   "cell_type": "code",
   "execution_count": 52,
   "metadata": {},
   "outputs": [
    {
     "data": {
      "text/plain": [
       "2"
      ]
     },
     "execution_count": 52,
     "metadata": {},
     "output_type": "execute_result"
    }
   ],
   "source": [
    "round(1.5)"
   ]
  },
  {
   "cell_type": "code",
   "execution_count": 53,
   "metadata": {},
   "outputs": [],
   "source": [
    "df_res = []\n",
    "for i in range(6):\n",
    "    df_res.append(round(float(df[\"num{0}\".format(i+1)].describe()[\"mean\"])))"
   ]
  },
  {
   "cell_type": "code",
   "execution_count": 54,
   "metadata": {},
   "outputs": [
    {
     "data": {
      "text/plain": [
       "[7, 13, 20, 26, 33, 40]"
      ]
     },
     "execution_count": 54,
     "metadata": {},
     "output_type": "execute_result"
    }
   ],
   "source": [
    "df_res"
   ]
  },
  {
   "cell_type": "code",
   "execution_count": null,
   "metadata": {},
   "outputs": [],
   "source": []
  }
 ],
 "metadata": {
  "interpreter": {
   "hash": "ae51e24a7d05cf0f6ce911025d8f395ffbe356643661b6b7b7049f6e05d29c8e"
  },
  "kernelspec": {
   "display_name": "Python 3.8.13 ('lotto-84uxfHUV')",
   "language": "python",
   "name": "python3"
  },
  "language_info": {
   "codemirror_mode": {
    "name": "ipython",
    "version": 3
   },
   "file_extension": ".py",
   "mimetype": "text/x-python",
   "name": "python",
   "nbconvert_exporter": "python",
   "pygments_lexer": "ipython3",
   "version": "3.8.13"
  },
  "orig_nbformat": 4
 },
 "nbformat": 4,
 "nbformat_minor": 2
}
